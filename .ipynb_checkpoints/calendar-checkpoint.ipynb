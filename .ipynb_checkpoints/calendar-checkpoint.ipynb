{
 "cells": [
  {
   "cell_type": "code",
   "execution_count": 1,
   "metadata": {},
   "outputs": [],
   "source": [
    "import numpy as np\n",
    "import pandas as pd"
   ]
  },
  {
   "cell_type": "code",
   "execution_count": 2,
   "metadata": {},
   "outputs": [],
   "source": [
    "cal_20 = pd.read_csv('~/downloads/Jan2020calendar.csv')"
   ]
  },
  {
   "cell_type": "code",
   "execution_count": 3,
   "metadata": {},
   "outputs": [],
   "source": [
    "cal_19 = pd.read_csv('~/downloads/Jan2019calendar.csv')"
   ]
  },
  {
   "cell_type": "code",
   "execution_count": 4,
   "metadata": {},
   "outputs": [],
   "source": [
    "cal_18 = pd.read_csv('~/downloads/Jan2018calendar.csv')"
   ]
  },
  {
   "cell_type": "code",
   "execution_count": 5,
   "metadata": {},
   "outputs": [],
   "source": [
    "cal_17 = pd.read_csv('~/downloads/Jan2017calendar.csv')"
   ]
  },
  {
   "cell_type": "code",
   "execution_count": 6,
   "metadata": {},
   "outputs": [],
   "source": [
    "pd.set_option('display.max_columns', None)\n",
    "pd.set_option('display.max_rows', 50)"
   ]
  },
  {
   "cell_type": "code",
   "execution_count": 7,
   "metadata": {},
   "outputs": [
    {
     "data": {
      "text/html": [
       "<div>\n",
       "<style scoped>\n",
       "    .dataframe tbody tr th:only-of-type {\n",
       "        vertical-align: middle;\n",
       "    }\n",
       "\n",
       "    .dataframe tbody tr th {\n",
       "        vertical-align: top;\n",
       "    }\n",
       "\n",
       "    .dataframe thead th {\n",
       "        text-align: right;\n",
       "    }\n",
       "</style>\n",
       "<table border=\"1\" class=\"dataframe\">\n",
       "  <thead>\n",
       "    <tr style=\"text-align: right;\">\n",
       "      <th></th>\n",
       "      <th>listing_id</th>\n",
       "      <th>date</th>\n",
       "      <th>available</th>\n",
       "      <th>price</th>\n",
       "      <th>adjusted_price</th>\n",
       "      <th>minimum_nights</th>\n",
       "      <th>maximum_nights</th>\n",
       "    </tr>\n",
       "  </thead>\n",
       "  <tbody>\n",
       "    <tr>\n",
       "      <th>0</th>\n",
       "      <td>56621</td>\n",
       "      <td>2019-01-09</td>\n",
       "      <td>f</td>\n",
       "      <td>$55.00</td>\n",
       "      <td>$55.00</td>\n",
       "      <td>30</td>\n",
       "      <td>365</td>\n",
       "    </tr>\n",
       "    <tr>\n",
       "      <th>1</th>\n",
       "      <td>958</td>\n",
       "      <td>2019-01-09</td>\n",
       "      <td>f</td>\n",
       "      <td>$178.00</td>\n",
       "      <td>$178.00</td>\n",
       "      <td>1</td>\n",
       "      <td>30</td>\n",
       "    </tr>\n",
       "    <tr>\n",
       "      <th>2</th>\n",
       "      <td>958</td>\n",
       "      <td>2019-01-10</td>\n",
       "      <td>f</td>\n",
       "      <td>$178.00</td>\n",
       "      <td>$178.00</td>\n",
       "      <td>1</td>\n",
       "      <td>30</td>\n",
       "    </tr>\n",
       "    <tr>\n",
       "      <th>3</th>\n",
       "      <td>958</td>\n",
       "      <td>2019-01-11</td>\n",
       "      <td>f</td>\n",
       "      <td>$150.00</td>\n",
       "      <td>$150.00</td>\n",
       "      <td>1</td>\n",
       "      <td>30</td>\n",
       "    </tr>\n",
       "    <tr>\n",
       "      <th>4</th>\n",
       "      <td>958</td>\n",
       "      <td>2019-01-12</td>\n",
       "      <td>f</td>\n",
       "      <td>$150.00</td>\n",
       "      <td>$150.00</td>\n",
       "      <td>1</td>\n",
       "      <td>30</td>\n",
       "    </tr>\n",
       "  </tbody>\n",
       "</table>\n",
       "</div>"
      ],
      "text/plain": [
       "   listing_id        date available    price adjusted_price  minimum_nights  \\\n",
       "0       56621  2019-01-09         f   $55.00         $55.00              30   \n",
       "1         958  2019-01-09         f  $178.00        $178.00               1   \n",
       "2         958  2019-01-10         f  $178.00        $178.00               1   \n",
       "3         958  2019-01-11         f  $150.00        $150.00               1   \n",
       "4         958  2019-01-12         f  $150.00        $150.00               1   \n",
       "\n",
       "   maximum_nights  \n",
       "0             365  \n",
       "1              30  \n",
       "2              30  \n",
       "3              30  \n",
       "4              30  "
      ]
     },
     "execution_count": 7,
     "metadata": {},
     "output_type": "execute_result"
    }
   ],
   "source": [
    "cal_19.head()"
   ]
  },
  {
   "cell_type": "code",
   "execution_count": 8,
   "metadata": {},
   "outputs": [
    {
     "data": {
      "text/plain": [
       "f    1787695\n",
       "t    1360430\n",
       "Name: available, dtype: int64"
      ]
     },
     "execution_count": 8,
     "metadata": {},
     "output_type": "execute_result"
    }
   ],
   "source": [
    "cal_20.available.value_counts()"
   ]
  },
  {
   "cell_type": "code",
   "execution_count": 9,
   "metadata": {},
   "outputs": [],
   "source": [
    "cal_20['year'] = 2020  \n",
    "cal_19['year'] = 2019  \n",
    "cal_18['year'] = 2018  \n",
    "cal_17['year'] = 2017  "
   ]
  },
  {
   "cell_type": "code",
   "execution_count": 10,
   "metadata": {},
   "outputs": [
    {
     "data": {
      "text/plain": [
       "f    1497799\n",
       "t    1148816\n",
       "Name: available, dtype: int64"
      ]
     },
     "execution_count": 10,
     "metadata": {},
     "output_type": "execute_result"
    }
   ],
   "source": [
    "cal_19.available.value_counts()"
   ]
  },
  {
   "cell_type": "code",
   "execution_count": 11,
   "metadata": {},
   "outputs": [
    {
     "data": {
      "text/plain": [
       "f    1496414\n",
       "t     877546\n",
       "Name: available, dtype: int64"
      ]
     },
     "execution_count": 11,
     "metadata": {},
     "output_type": "execute_result"
    }
   ],
   "source": [
    "cal_18.available.value_counts()"
   ]
  },
  {
   "cell_type": "code",
   "execution_count": 12,
   "metadata": {},
   "outputs": [
    {
     "data": {
      "text/plain": [
       "f    2057712\n",
       "t    1240063\n",
       "Name: available, dtype: int64"
      ]
     },
     "execution_count": 12,
     "metadata": {},
     "output_type": "execute_result"
    }
   ],
   "source": [
    "cal_17.available.value_counts()"
   ]
  },
  {
   "cell_type": "code",
   "execution_count": null,
   "metadata": {},
   "outputs": [],
   "source": []
  },
  {
   "cell_type": "raw",
   "metadata": {},
   "source": []
  },
  {
   "cell_type": "markdown",
   "metadata": {},
   "source": [
    "master_cal"
   ]
  },
  {
   "cell_type": "code",
   "execution_count": null,
   "metadata": {},
   "outputs": [],
   "source": []
  },
  {
   "cell_type": "code",
   "execution_count": null,
   "metadata": {},
   "outputs": [],
   "source": []
  },
  {
   "cell_type": "code",
   "execution_count": 13,
   "metadata": {},
   "outputs": [],
   "source": [
    "cal_20['price'] = cal_20['price'].str.replace('$', '')\n",
    "cal_20['price'] = cal_20['price'].str.replace(',', '')"
   ]
  },
  {
   "cell_type": "code",
   "execution_count": 14,
   "metadata": {},
   "outputs": [],
   "source": [
    "cal_19['price'] = cal_19['price'].str.replace('$', '')\n",
    "cal_19['price'] = cal_19['price'].str.replace(',', '')"
   ]
  },
  {
   "cell_type": "code",
   "execution_count": 15,
   "metadata": {},
   "outputs": [],
   "source": [
    "cal_18['price'] = cal_18['price'].str.replace('$', '')\n",
    "cal_18['price'] = cal_18['price'].str.replace(',', '')"
   ]
  },
  {
   "cell_type": "code",
   "execution_count": 16,
   "metadata": {},
   "outputs": [],
   "source": [
    "cal_17['price'] = cal_17['price'].str.replace('$', '')\n",
    "cal_17['price'] = cal_17['price'].str.replace(',', '')"
   ]
  },
  {
   "cell_type": "code",
   "execution_count": 17,
   "metadata": {},
   "outputs": [
    {
     "data": {
      "text/html": [
       "<div>\n",
       "<style scoped>\n",
       "    .dataframe tbody tr th:only-of-type {\n",
       "        vertical-align: middle;\n",
       "    }\n",
       "\n",
       "    .dataframe tbody tr th {\n",
       "        vertical-align: top;\n",
       "    }\n",
       "\n",
       "    .dataframe thead th {\n",
       "        text-align: right;\n",
       "    }\n",
       "</style>\n",
       "<table border=\"1\" class=\"dataframe\">\n",
       "  <thead>\n",
       "    <tr style=\"text-align: right;\">\n",
       "      <th></th>\n",
       "      <th>listing_id</th>\n",
       "      <th>date</th>\n",
       "      <th>available</th>\n",
       "      <th>price</th>\n",
       "      <th>adjusted_price</th>\n",
       "      <th>minimum_nights</th>\n",
       "      <th>maximum_nights</th>\n",
       "      <th>year</th>\n",
       "    </tr>\n",
       "  </thead>\n",
       "  <tbody>\n",
       "    <tr>\n",
       "      <th>0</th>\n",
       "      <td>958</td>\n",
       "      <td>2020-01-02</td>\n",
       "      <td>f</td>\n",
       "      <td>146.00</td>\n",
       "      <td>$146.00</td>\n",
       "      <td>1</td>\n",
       "      <td>30</td>\n",
       "      <td>2020</td>\n",
       "    </tr>\n",
       "    <tr>\n",
       "      <th>1</th>\n",
       "      <td>958</td>\n",
       "      <td>2020-01-03</td>\n",
       "      <td>f</td>\n",
       "      <td>147.00</td>\n",
       "      <td>$147.00</td>\n",
       "      <td>1</td>\n",
       "      <td>30</td>\n",
       "      <td>2020</td>\n",
       "    </tr>\n",
       "    <tr>\n",
       "      <th>2</th>\n",
       "      <td>958</td>\n",
       "      <td>2020-01-04</td>\n",
       "      <td>f</td>\n",
       "      <td>140.00</td>\n",
       "      <td>$140.00</td>\n",
       "      <td>1</td>\n",
       "      <td>30</td>\n",
       "      <td>2020</td>\n",
       "    </tr>\n",
       "    <tr>\n",
       "      <th>3</th>\n",
       "      <td>958</td>\n",
       "      <td>2020-01-05</td>\n",
       "      <td>t</td>\n",
       "      <td>135.00</td>\n",
       "      <td>$135.00</td>\n",
       "      <td>1</td>\n",
       "      <td>30</td>\n",
       "      <td>2020</td>\n",
       "    </tr>\n",
       "    <tr>\n",
       "      <th>4</th>\n",
       "      <td>958</td>\n",
       "      <td>2020-01-06</td>\n",
       "      <td>f</td>\n",
       "      <td>149.00</td>\n",
       "      <td>$149.00</td>\n",
       "      <td>1</td>\n",
       "      <td>30</td>\n",
       "      <td>2020</td>\n",
       "    </tr>\n",
       "    <tr>\n",
       "      <th>...</th>\n",
       "      <td>...</td>\n",
       "      <td>...</td>\n",
       "      <td>...</td>\n",
       "      <td>...</td>\n",
       "      <td>...</td>\n",
       "      <td>...</td>\n",
       "      <td>...</td>\n",
       "      <td>...</td>\n",
       "    </tr>\n",
       "    <tr>\n",
       "      <th>3148120</th>\n",
       "      <td>41220037</td>\n",
       "      <td>2020-12-27</td>\n",
       "      <td>f</td>\n",
       "      <td>88.00</td>\n",
       "      <td>$88.00</td>\n",
       "      <td>30</td>\n",
       "      <td>1125</td>\n",
       "      <td>2020</td>\n",
       "    </tr>\n",
       "    <tr>\n",
       "      <th>3148121</th>\n",
       "      <td>41220037</td>\n",
       "      <td>2020-12-28</td>\n",
       "      <td>f</td>\n",
       "      <td>88.00</td>\n",
       "      <td>$88.00</td>\n",
       "      <td>30</td>\n",
       "      <td>1125</td>\n",
       "      <td>2020</td>\n",
       "    </tr>\n",
       "    <tr>\n",
       "      <th>3148122</th>\n",
       "      <td>41220037</td>\n",
       "      <td>2020-12-29</td>\n",
       "      <td>f</td>\n",
       "      <td>88.00</td>\n",
       "      <td>$88.00</td>\n",
       "      <td>30</td>\n",
       "      <td>1125</td>\n",
       "      <td>2020</td>\n",
       "    </tr>\n",
       "    <tr>\n",
       "      <th>3148123</th>\n",
       "      <td>41220037</td>\n",
       "      <td>2020-12-30</td>\n",
       "      <td>f</td>\n",
       "      <td>88.00</td>\n",
       "      <td>$88.00</td>\n",
       "      <td>30</td>\n",
       "      <td>1125</td>\n",
       "      <td>2020</td>\n",
       "    </tr>\n",
       "    <tr>\n",
       "      <th>3148124</th>\n",
       "      <td>41220037</td>\n",
       "      <td>2020-12-31</td>\n",
       "      <td>f</td>\n",
       "      <td>88.00</td>\n",
       "      <td>$88.00</td>\n",
       "      <td>30</td>\n",
       "      <td>1125</td>\n",
       "      <td>2020</td>\n",
       "    </tr>\n",
       "  </tbody>\n",
       "</table>\n",
       "<p>3148125 rows × 8 columns</p>\n",
       "</div>"
      ],
      "text/plain": [
       "         listing_id        date available   price adjusted_price  \\\n",
       "0               958  2020-01-02         f  146.00        $146.00   \n",
       "1               958  2020-01-03         f  147.00        $147.00   \n",
       "2               958  2020-01-04         f  140.00        $140.00   \n",
       "3               958  2020-01-05         t  135.00        $135.00   \n",
       "4               958  2020-01-06         f  149.00        $149.00   \n",
       "...             ...         ...       ...     ...            ...   \n",
       "3148120    41220037  2020-12-27         f   88.00         $88.00   \n",
       "3148121    41220037  2020-12-28         f   88.00         $88.00   \n",
       "3148122    41220037  2020-12-29         f   88.00         $88.00   \n",
       "3148123    41220037  2020-12-30         f   88.00         $88.00   \n",
       "3148124    41220037  2020-12-31         f   88.00         $88.00   \n",
       "\n",
       "         minimum_nights  maximum_nights  year  \n",
       "0                     1              30  2020  \n",
       "1                     1              30  2020  \n",
       "2                     1              30  2020  \n",
       "3                     1              30  2020  \n",
       "4                     1              30  2020  \n",
       "...                 ...             ...   ...  \n",
       "3148120              30            1125  2020  \n",
       "3148121              30            1125  2020  \n",
       "3148122              30            1125  2020  \n",
       "3148123              30            1125  2020  \n",
       "3148124              30            1125  2020  \n",
       "\n",
       "[3148125 rows x 8 columns]"
      ]
     },
     "execution_count": 17,
     "metadata": {},
     "output_type": "execute_result"
    }
   ],
   "source": [
    "cal_20.dropna(axis=1)"
   ]
  },
  {
   "cell_type": "code",
   "execution_count": 18,
   "metadata": {},
   "outputs": [
    {
     "data": {
      "text/html": [
       "<div>\n",
       "<style scoped>\n",
       "    .dataframe tbody tr th:only-of-type {\n",
       "        vertical-align: middle;\n",
       "    }\n",
       "\n",
       "    .dataframe tbody tr th {\n",
       "        vertical-align: top;\n",
       "    }\n",
       "\n",
       "    .dataframe thead th {\n",
       "        text-align: right;\n",
       "    }\n",
       "</style>\n",
       "<table border=\"1\" class=\"dataframe\">\n",
       "  <thead>\n",
       "    <tr style=\"text-align: right;\">\n",
       "      <th></th>\n",
       "      <th>listing_id</th>\n",
       "      <th>date</th>\n",
       "      <th>available</th>\n",
       "      <th>price</th>\n",
       "      <th>adjusted_price</th>\n",
       "      <th>minimum_nights</th>\n",
       "      <th>maximum_nights</th>\n",
       "      <th>year</th>\n",
       "    </tr>\n",
       "  </thead>\n",
       "  <tbody>\n",
       "    <tr>\n",
       "      <th>0</th>\n",
       "      <td>56621</td>\n",
       "      <td>2019-01-09</td>\n",
       "      <td>f</td>\n",
       "      <td>55.00</td>\n",
       "      <td>$55.00</td>\n",
       "      <td>30</td>\n",
       "      <td>365</td>\n",
       "      <td>2019</td>\n",
       "    </tr>\n",
       "    <tr>\n",
       "      <th>1</th>\n",
       "      <td>958</td>\n",
       "      <td>2019-01-09</td>\n",
       "      <td>f</td>\n",
       "      <td>178.00</td>\n",
       "      <td>$178.00</td>\n",
       "      <td>1</td>\n",
       "      <td>30</td>\n",
       "      <td>2019</td>\n",
       "    </tr>\n",
       "    <tr>\n",
       "      <th>2</th>\n",
       "      <td>958</td>\n",
       "      <td>2019-01-10</td>\n",
       "      <td>f</td>\n",
       "      <td>178.00</td>\n",
       "      <td>$178.00</td>\n",
       "      <td>1</td>\n",
       "      <td>30</td>\n",
       "      <td>2019</td>\n",
       "    </tr>\n",
       "    <tr>\n",
       "      <th>3</th>\n",
       "      <td>958</td>\n",
       "      <td>2019-01-11</td>\n",
       "      <td>f</td>\n",
       "      <td>150.00</td>\n",
       "      <td>$150.00</td>\n",
       "      <td>1</td>\n",
       "      <td>30</td>\n",
       "      <td>2019</td>\n",
       "    </tr>\n",
       "    <tr>\n",
       "      <th>4</th>\n",
       "      <td>958</td>\n",
       "      <td>2019-01-12</td>\n",
       "      <td>f</td>\n",
       "      <td>150.00</td>\n",
       "      <td>$150.00</td>\n",
       "      <td>1</td>\n",
       "      <td>30</td>\n",
       "      <td>2019</td>\n",
       "    </tr>\n",
       "    <tr>\n",
       "      <th>...</th>\n",
       "      <td>...</td>\n",
       "      <td>...</td>\n",
       "      <td>...</td>\n",
       "      <td>...</td>\n",
       "      <td>...</td>\n",
       "      <td>...</td>\n",
       "      <td>...</td>\n",
       "      <td>...</td>\n",
       "    </tr>\n",
       "    <tr>\n",
       "      <th>2646610</th>\n",
       "      <td>31043827</td>\n",
       "      <td>2020-01-04</td>\n",
       "      <td>t</td>\n",
       "      <td>53.00</td>\n",
       "      <td>$53.00</td>\n",
       "      <td>30</td>\n",
       "      <td>365</td>\n",
       "      <td>2019</td>\n",
       "    </tr>\n",
       "    <tr>\n",
       "      <th>2646611</th>\n",
       "      <td>31043827</td>\n",
       "      <td>2020-01-05</td>\n",
       "      <td>t</td>\n",
       "      <td>53.00</td>\n",
       "      <td>$53.00</td>\n",
       "      <td>30</td>\n",
       "      <td>365</td>\n",
       "      <td>2019</td>\n",
       "    </tr>\n",
       "    <tr>\n",
       "      <th>2646612</th>\n",
       "      <td>31043827</td>\n",
       "      <td>2020-01-06</td>\n",
       "      <td>t</td>\n",
       "      <td>53.00</td>\n",
       "      <td>$53.00</td>\n",
       "      <td>30</td>\n",
       "      <td>365</td>\n",
       "      <td>2019</td>\n",
       "    </tr>\n",
       "    <tr>\n",
       "      <th>2646613</th>\n",
       "      <td>31043827</td>\n",
       "      <td>2020-01-07</td>\n",
       "      <td>t</td>\n",
       "      <td>53.00</td>\n",
       "      <td>$53.00</td>\n",
       "      <td>30</td>\n",
       "      <td>365</td>\n",
       "      <td>2019</td>\n",
       "    </tr>\n",
       "    <tr>\n",
       "      <th>2646614</th>\n",
       "      <td>31043827</td>\n",
       "      <td>2020-01-08</td>\n",
       "      <td>t</td>\n",
       "      <td>53.00</td>\n",
       "      <td>$53.00</td>\n",
       "      <td>30</td>\n",
       "      <td>365</td>\n",
       "      <td>2019</td>\n",
       "    </tr>\n",
       "  </tbody>\n",
       "</table>\n",
       "<p>2646615 rows × 8 columns</p>\n",
       "</div>"
      ],
      "text/plain": [
       "         listing_id        date available   price adjusted_price  \\\n",
       "0             56621  2019-01-09         f   55.00         $55.00   \n",
       "1               958  2019-01-09         f  178.00        $178.00   \n",
       "2               958  2019-01-10         f  178.00        $178.00   \n",
       "3               958  2019-01-11         f  150.00        $150.00   \n",
       "4               958  2019-01-12         f  150.00        $150.00   \n",
       "...             ...         ...       ...     ...            ...   \n",
       "2646610    31043827  2020-01-04         t   53.00         $53.00   \n",
       "2646611    31043827  2020-01-05         t   53.00         $53.00   \n",
       "2646612    31043827  2020-01-06         t   53.00         $53.00   \n",
       "2646613    31043827  2020-01-07         t   53.00         $53.00   \n",
       "2646614    31043827  2020-01-08         t   53.00         $53.00   \n",
       "\n",
       "         minimum_nights  maximum_nights  year  \n",
       "0                    30             365  2019  \n",
       "1                     1              30  2019  \n",
       "2                     1              30  2019  \n",
       "3                     1              30  2019  \n",
       "4                     1              30  2019  \n",
       "...                 ...             ...   ...  \n",
       "2646610              30             365  2019  \n",
       "2646611              30             365  2019  \n",
       "2646612              30             365  2019  \n",
       "2646613              30             365  2019  \n",
       "2646614              30             365  2019  \n",
       "\n",
       "[2646615 rows x 8 columns]"
      ]
     },
     "execution_count": 18,
     "metadata": {},
     "output_type": "execute_result"
    }
   ],
   "source": [
    "cal_19.dropna(axis=1)"
   ]
  },
  {
   "cell_type": "code",
   "execution_count": 19,
   "metadata": {},
   "outputs": [
    {
     "data": {
      "text/plain": [
       "0           NaN\n",
       "1           NaN\n",
       "2           NaN\n",
       "3           NaN\n",
       "4           NaN\n",
       "           ... \n",
       "3297770     NaN\n",
       "3297771     NaN\n",
       "3297772     NaN\n",
       "3297773    74.0\n",
       "3297774     NaN\n",
       "Name: price, Length: 3297775, dtype: float64"
      ]
     },
     "execution_count": 19,
     "metadata": {},
     "output_type": "execute_result"
    }
   ],
   "source": [
    "cal_17.price.astype(float)"
   ]
  },
  {
   "cell_type": "code",
   "execution_count": 20,
   "metadata": {},
   "outputs": [],
   "source": [
    "\n",
    "cal_20['price'] = cal_20.price.astype(float)\n",
    "cal_19['price'] = cal_19.price.astype(float)\n",
    "cal_18['price'] = cal_18.price.astype(float)\n",
    "cal_17['price'] = cal_17.price.astype(float)"
   ]
  },
  {
   "cell_type": "code",
   "execution_count": 21,
   "metadata": {},
   "outputs": [
    {
     "data": {
      "text/plain": [
       "230.28350240222355"
      ]
     },
     "execution_count": 21,
     "metadata": {},
     "output_type": "execute_result"
    }
   ],
   "source": [
    "cal_20.price.mean()\n"
   ]
  },
  {
   "cell_type": "code",
   "execution_count": 22,
   "metadata": {},
   "outputs": [
    {
     "data": {
      "text/plain": [
       "155.0"
      ]
     },
     "execution_count": 22,
     "metadata": {},
     "output_type": "execute_result"
    }
   ],
   "source": [
    "cal_20.price.median()"
   ]
  },
  {
   "cell_type": "code",
   "execution_count": 23,
   "metadata": {},
   "outputs": [
    {
     "data": {
      "text/plain": [
       "224.98062317337428"
      ]
     },
     "execution_count": 23,
     "metadata": {},
     "output_type": "execute_result"
    }
   ],
   "source": [
    "cal_19.price.mean()"
   ]
  },
  {
   "cell_type": "code",
   "execution_count": 24,
   "metadata": {},
   "outputs": [
    {
     "data": {
      "text/plain": [
       "159.0"
      ]
     },
     "execution_count": 24,
     "metadata": {},
     "output_type": "execute_result"
    }
   ],
   "source": [
    "cal_19.price.median()"
   ]
  },
  {
   "cell_type": "code",
   "execution_count": 25,
   "metadata": {},
   "outputs": [
    {
     "data": {
      "text/plain": [
       "238.20308906883514"
      ]
     },
     "execution_count": 25,
     "metadata": {},
     "output_type": "execute_result"
    }
   ],
   "source": [
    "cal_18.price.mean()"
   ]
  },
  {
   "cell_type": "code",
   "execution_count": 26,
   "metadata": {},
   "outputs": [
    {
     "data": {
      "text/plain": [
       "159.0"
      ]
     },
     "execution_count": 26,
     "metadata": {},
     "output_type": "execute_result"
    }
   ],
   "source": [
    "cal_18.price.median()"
   ]
  },
  {
   "cell_type": "code",
   "execution_count": 27,
   "metadata": {},
   "outputs": [
    {
     "data": {
      "text/plain": [
       "238.2806615470343"
      ]
     },
     "execution_count": 27,
     "metadata": {},
     "output_type": "execute_result"
    }
   ],
   "source": [
    "cal_17.price.mean()"
   ]
  },
  {
   "cell_type": "code",
   "execution_count": 28,
   "metadata": {},
   "outputs": [
    {
     "data": {
      "text/plain": [
       "165.0"
      ]
     },
     "execution_count": 28,
     "metadata": {},
     "output_type": "execute_result"
    }
   ],
   "source": [
    "cal_17.price.median()"
   ]
  },
  {
   "cell_type": "code",
   "execution_count": 29,
   "metadata": {},
   "outputs": [],
   "source": [
    "master_cal = pd.concat([cal_20, cal_19, cal_18, cal_17])"
   ]
  },
  {
   "cell_type": "code",
   "execution_count": 30,
   "metadata": {},
   "outputs": [
    {
     "data": {
      "text/html": [
       "<div>\n",
       "<style scoped>\n",
       "    .dataframe tbody tr th:only-of-type {\n",
       "        vertical-align: middle;\n",
       "    }\n",
       "\n",
       "    .dataframe tbody tr th {\n",
       "        vertical-align: top;\n",
       "    }\n",
       "\n",
       "    .dataframe thead th {\n",
       "        text-align: right;\n",
       "    }\n",
       "</style>\n",
       "<table border=\"1\" class=\"dataframe\">\n",
       "  <thead>\n",
       "    <tr style=\"text-align: right;\">\n",
       "      <th></th>\n",
       "      <th>listing_id</th>\n",
       "      <th>date</th>\n",
       "      <th>available</th>\n",
       "      <th>price</th>\n",
       "      <th>adjusted_price</th>\n",
       "      <th>minimum_nights</th>\n",
       "      <th>maximum_nights</th>\n",
       "      <th>year</th>\n",
       "    </tr>\n",
       "  </thead>\n",
       "  <tbody>\n",
       "    <tr>\n",
       "      <th>0</th>\n",
       "      <td>958</td>\n",
       "      <td>2020-01-02</td>\n",
       "      <td>f</td>\n",
       "      <td>146.0</td>\n",
       "      <td>$146.00</td>\n",
       "      <td>1.0</td>\n",
       "      <td>30.0</td>\n",
       "      <td>2020</td>\n",
       "    </tr>\n",
       "    <tr>\n",
       "      <th>1</th>\n",
       "      <td>958</td>\n",
       "      <td>2020-01-03</td>\n",
       "      <td>f</td>\n",
       "      <td>147.0</td>\n",
       "      <td>$147.00</td>\n",
       "      <td>1.0</td>\n",
       "      <td>30.0</td>\n",
       "      <td>2020</td>\n",
       "    </tr>\n",
       "    <tr>\n",
       "      <th>2</th>\n",
       "      <td>958</td>\n",
       "      <td>2020-01-04</td>\n",
       "      <td>f</td>\n",
       "      <td>140.0</td>\n",
       "      <td>$140.00</td>\n",
       "      <td>1.0</td>\n",
       "      <td>30.0</td>\n",
       "      <td>2020</td>\n",
       "    </tr>\n",
       "    <tr>\n",
       "      <th>3</th>\n",
       "      <td>958</td>\n",
       "      <td>2020-01-05</td>\n",
       "      <td>t</td>\n",
       "      <td>135.0</td>\n",
       "      <td>$135.00</td>\n",
       "      <td>1.0</td>\n",
       "      <td>30.0</td>\n",
       "      <td>2020</td>\n",
       "    </tr>\n",
       "    <tr>\n",
       "      <th>4</th>\n",
       "      <td>958</td>\n",
       "      <td>2020-01-06</td>\n",
       "      <td>f</td>\n",
       "      <td>149.0</td>\n",
       "      <td>$149.00</td>\n",
       "      <td>1.0</td>\n",
       "      <td>30.0</td>\n",
       "      <td>2020</td>\n",
       "    </tr>\n",
       "    <tr>\n",
       "      <th>...</th>\n",
       "      <td>...</td>\n",
       "      <td>...</td>\n",
       "      <td>...</td>\n",
       "      <td>...</td>\n",
       "      <td>...</td>\n",
       "      <td>...</td>\n",
       "      <td>...</td>\n",
       "      <td>...</td>\n",
       "    </tr>\n",
       "    <tr>\n",
       "      <th>2646610</th>\n",
       "      <td>31043827</td>\n",
       "      <td>2020-01-04</td>\n",
       "      <td>t</td>\n",
       "      <td>53.0</td>\n",
       "      <td>$53.00</td>\n",
       "      <td>30.0</td>\n",
       "      <td>365.0</td>\n",
       "      <td>2019</td>\n",
       "    </tr>\n",
       "    <tr>\n",
       "      <th>2646611</th>\n",
       "      <td>31043827</td>\n",
       "      <td>2020-01-05</td>\n",
       "      <td>t</td>\n",
       "      <td>53.0</td>\n",
       "      <td>$53.00</td>\n",
       "      <td>30.0</td>\n",
       "      <td>365.0</td>\n",
       "      <td>2019</td>\n",
       "    </tr>\n",
       "    <tr>\n",
       "      <th>2646612</th>\n",
       "      <td>31043827</td>\n",
       "      <td>2020-01-06</td>\n",
       "      <td>t</td>\n",
       "      <td>53.0</td>\n",
       "      <td>$53.00</td>\n",
       "      <td>30.0</td>\n",
       "      <td>365.0</td>\n",
       "      <td>2019</td>\n",
       "    </tr>\n",
       "    <tr>\n",
       "      <th>2646613</th>\n",
       "      <td>31043827</td>\n",
       "      <td>2020-01-07</td>\n",
       "      <td>t</td>\n",
       "      <td>53.0</td>\n",
       "      <td>$53.00</td>\n",
       "      <td>30.0</td>\n",
       "      <td>365.0</td>\n",
       "      <td>2019</td>\n",
       "    </tr>\n",
       "    <tr>\n",
       "      <th>2646614</th>\n",
       "      <td>31043827</td>\n",
       "      <td>2020-01-08</td>\n",
       "      <td>t</td>\n",
       "      <td>53.0</td>\n",
       "      <td>$53.00</td>\n",
       "      <td>30.0</td>\n",
       "      <td>365.0</td>\n",
       "      <td>2019</td>\n",
       "    </tr>\n",
       "  </tbody>\n",
       "</table>\n",
       "<p>5794740 rows × 8 columns</p>\n",
       "</div>"
      ],
      "text/plain": [
       "         listing_id        date available  price adjusted_price  \\\n",
       "0               958  2020-01-02         f  146.0        $146.00   \n",
       "1               958  2020-01-03         f  147.0        $147.00   \n",
       "2               958  2020-01-04         f  140.0        $140.00   \n",
       "3               958  2020-01-05         t  135.0        $135.00   \n",
       "4               958  2020-01-06         f  149.0        $149.00   \n",
       "...             ...         ...       ...    ...            ...   \n",
       "2646610    31043827  2020-01-04         t   53.0         $53.00   \n",
       "2646611    31043827  2020-01-05         t   53.0         $53.00   \n",
       "2646612    31043827  2020-01-06         t   53.0         $53.00   \n",
       "2646613    31043827  2020-01-07         t   53.0         $53.00   \n",
       "2646614    31043827  2020-01-08         t   53.0         $53.00   \n",
       "\n",
       "         minimum_nights  maximum_nights  year  \n",
       "0                   1.0            30.0  2020  \n",
       "1                   1.0            30.0  2020  \n",
       "2                   1.0            30.0  2020  \n",
       "3                   1.0            30.0  2020  \n",
       "4                   1.0            30.0  2020  \n",
       "...                 ...             ...   ...  \n",
       "2646610            30.0           365.0  2019  \n",
       "2646611            30.0           365.0  2019  \n",
       "2646612            30.0           365.0  2019  \n",
       "2646613            30.0           365.0  2019  \n",
       "2646614            30.0           365.0  2019  \n",
       "\n",
       "[5794740 rows x 8 columns]"
      ]
     },
     "execution_count": 30,
     "metadata": {},
     "output_type": "execute_result"
    }
   ],
   "source": [
    "master_cal.dropna()"
   ]
  },
  {
   "cell_type": "code",
   "execution_count": 32,
   "metadata": {},
   "outputs": [],
   "source": [
    "master_cal.to_csv(\"master_cal.csv\")"
   ]
  },
  {
   "cell_type": "code",
   "execution_count": 33,
   "metadata": {},
   "outputs": [
    {
     "data": {
      "text/plain": [
       "'/Users/natalia/Airbnb_Project'"
      ]
     },
     "execution_count": 33,
     "metadata": {},
     "output_type": "execute_result"
    }
   ],
   "source": [
    "pwd"
   ]
  },
  {
   "cell_type": "code",
   "execution_count": 39,
   "metadata": {},
   "outputs": [
    {
     "data": {
      "text/plain": [
       "<pandas.core.groupby.generic.DataFrameGroupBy object at 0x11e2734d0>"
      ]
     },
     "execution_count": 39,
     "metadata": {},
     "output_type": "execute_result"
    }
   ],
   "source": [
    "master_cal.groupby(['listing_id','year'])"
   ]
  },
  {
   "cell_type": "code",
   "execution_count": 37,
   "metadata": {},
   "outputs": [
    {
     "data": {
      "text/plain": [
       "71645       365\n",
       "32501596    365\n",
       "25889791    365\n",
       "30157594    365\n",
       "21836601    365\n",
       "           ... \n",
       "38726789    365\n",
       "1814061     365\n",
       "18474596    365\n",
       "14938407    365\n",
       "4024236     365\n",
       "Name: listing_id, Length: 8625, dtype: int64"
      ]
     },
     "execution_count": 37,
     "metadata": {},
     "output_type": "execute_result"
    }
   ],
   "source": [
    "cal_20.listing_id.value_counts()"
   ]
  },
  {
   "cell_type": "code",
   "execution_count": null,
   "metadata": {},
   "outputs": [],
   "source": []
  }
 ],
 "metadata": {
  "kernelspec": {
   "display_name": "Python 3",
   "language": "python",
   "name": "python3"
  },
  "language_info": {
   "codemirror_mode": {
    "name": "ipython",
    "version": 3
   },
   "file_extension": ".py",
   "mimetype": "text/x-python",
   "name": "python",
   "nbconvert_exporter": "python",
   "pygments_lexer": "ipython3",
   "version": "3.7.7"
  }
 },
 "nbformat": 4,
 "nbformat_minor": 4
}
